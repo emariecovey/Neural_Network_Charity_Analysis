{
 "cells": [
  {
   "cell_type": "code",
   "execution_count": 19,
   "id": "4a4e9a45",
   "metadata": {},
   "outputs": [],
   "source": [
    "# Import our dependencies\n",
    "import pandas as pd\n",
    "import matplotlib as plt\n",
    "from sklearn.datasets import make_blobs\n",
    "import sklearn as skl\n",
    "import tensorflow as tf"
   ]
  },
  {
   "cell_type": "code",
   "execution_count": 20,
   "id": "efe6f538",
   "metadata": {},
   "outputs": [
    {
     "data": {
      "text/plain": [
       "<AxesSubplot:xlabel='Feature 1', ylabel='Feature 2'>"
      ]
     },
     "execution_count": 20,
     "metadata": {},
     "output_type": "execute_result"
    },
    {
     "data": {
      "image/png": "[encoded data removed]",
      "text/plain": [
       "<Figure size 432x288 with 2 Axes>"
      ]
     },
     "metadata": {
      "needs_background": "light"
     },
     "output_type": "display_data"
    }
   ],
   "source": [
    "# Generate dummy dataset\n",
    "X, y = make_blobs(n_samples=1000, centers=2, n_features=2, random_state=78)\n",
    "\n",
    "# Creating a DataFrame with the dummy data\n",
    "df = pd.DataFrame(X, columns=[\"Feature 1\", \"Feature 2\"])\n",
    "df[\"Target\"] = y\n",
    "df\n",
    "\n",
    "# Plot data\n",
    "df.plot.scatter(x=\"Feature 1\", y=\"Feature 2\", c=\"Target\", colormap=\"winter\")"
   ]
  },
  {
   "cell_type": "code",
   "execution_count": 21,
   "id": "d837f28f",
   "metadata": {},
   "outputs": [],
   "source": [
    "# Use sklearn to split dataset\n",
    "from sklearn.model_selection import train_test_split\n",
    "\n",
    "X_train, X_test, y_train, y_test = train_test_split(X, y, random_state=78)"
   ]
  },
  {
   "cell_type": "code",
   "execution_count": 22,
   "id": "546c355d",
   "metadata": {},
   "outputs": [],
   "source": [
    "# Standardize data\n",
    "# As with any machine learning algorithm, it is crucial to normalize or standardize our numerical variables to ensure that our neural network does not focus on outliers and can apply proper weights to each input. \n",
    "# In most cases, the more that input variables are normalized to the same scale, the more stable the neural network model is, and the better the neural network model will generalize.\n",
    "\n",
    "# Create scaler instance\n",
    "X_scaler = skl.preprocessing.StandardScaler()\n",
    "\n",
    "# Fit data onto scaler\n",
    "X_scaler.fit(X_train)\n",
    "\n",
    "# Scale the data\n",
    "X_train_scaled = X_scaler.transform(X_train)\n",
    "X_test_scaled = X_scaler.transform(X_test)\n",
    "\n"
   ]
  },
  {
   "cell_type": "code",
   "execution_count": 23,
   "id": "684b9b1c",
   "metadata": {},
   "outputs": [
    {
     "name": "stdout",
     "output_type": "stream",
     "text": [
      "Model: \"sequential_2\"\n",
      "_________________________________________________________________\n",
      "Layer (type)                 Output Shape              Param #   \n",
      "=================================================================\n",
      "dense_2 (Dense)              (None, 1)                 3         \n",
      "_________________________________________________________________\n",
      "dense_3 (Dense)              (None, 1)                 2         \n",
      "=================================================================\n",
      "Total params: 5\n",
      "Trainable params: 5\n",
      "Non-trainable params: 0\n",
      "_________________________________________________________________\n"
     ]
    }
   ],
   "source": [
    "# Create Keras Sequential Model\n",
    "nn_model = tf.keras.models.Sequential()\n",
    "\n",
    "# Add first dense layer (includes input layer)\n",
    "nn_model.add(tf.keras.layers.Dense(units=1, activation=\"relu\", input_dim=2))\n",
    "#inputs_dim is number of inputs\n",
    "#units is number of neurons in hidden layer\n",
    "#activation is activation function to use\n",
    "#https://playground.tensorflow.org/#activation=sigmoid&batchSize=10&dataset=gauss&regDataset=reg-plane&learningRate=0.03&regularizationRate=0&noise=0&networkShape=1&seed=0.10587&showTestData=false&discretize=true&percTrainData=50&x=true&y=true&xTimesY=false&xSquared=false&ySquared=false&cosX=false&sinX=false&cosY=false&sinY=false&collectStats=false&problem=classification&initZero=false&hideText=false&discretize_hide=true&regularization_hide=true&learningRate_hide=true&regularizationRate_hide=true&percTrainData_hide=true&showTestData_hide=true&noise_hide=true&batchSize_hide=true\n",
    "\n",
    "# Add the output layer that uses a probability activation function\n",
    "nn_model.add(tf.keras.layers.Dense(units=1, activation=\"sigmoid\"))\n",
    "\n",
    "# Check the structure of the Sequential model (double check model structure)\n",
    "nn_model.summary()\n"
   ]
  },
  {
   "cell_type": "code",
   "execution_count": 24,
   "id": "a773f023",
   "metadata": {},
   "outputs": [],
   "source": [
    "# Compile the Sequential model together and customize metrics\n",
    "nn_model.compile(loss=\"binary_crossentropy\", optimizer=\"adam\", metrics=[\"accuracy\"])\n",
    "\n",
    "# evaluation metric: measures the quality of the machine learning model. Two main types of evaluation metrics: 1. the model predictive accuracy 2. model mean squared error (MSE). We use accuracy for classification models and msefor regression models. For model predictive accuracy, the higher the number the better, whereas for regression models, MSE should reduce to zero.\n",
    "# optimization function: shapes and molds a neural network model while it is being trained to ensure that it performs to the best of its ability\n",
    "# loss: metric used by machine learning algorithms to score the performance of the model through each iteration and epoch by evaluating the inaccuracy of a single input (loss predicts model's ability to predict single data point)\n"
   ]
  },
  {
   "cell_type": "code",
   "execution_count": 25,
   "id": "93295d2c",
   "metadata": {},
   "outputs": [
    {
     "name": "stdout",
     "output_type": "stream",
     "text": [
      "Train on 750 samples\n",
      "Epoch 1/100\n",
      "750/750 [==============================] - 0s 326us/sample - loss: 0.9810 - acc: 0.0000e+00\n",
      "Epoch 2/100\n",
      "750/750 [==============================] - 0s 29us/sample - loss: 0.9523 - acc: 0.0000e+00\n",
      "Epoch 3/100\n",
      "750/750 [==============================] - 0s 32us/sample - loss: 0.9266 - acc: 0.0013\n",
      "Epoch 4/100\n",
      "750/750 [==============================] - 0s 30us/sample - loss: 0.9030 - acc: 0.0027\n",
      "Epoch 5/100\n",
      "750/750 [==============================] - 0s 30us/sample - loss: 0.8819 - acc: 0.0040\n",
      "Epoch 6/100\n",
      "750/750 [==============================] - 0s 29us/sample - loss: 0.8632 - acc: 0.0040\n",
      "Epoch 7/100\n",
      "750/750 [==============================] - 0s 32us/sample - loss: 0.8460 - acc: 0.0067\n",
      "Epoch 8/100\n",
      "750/750 [==============================] - 0s 32us/sample - loss: 0.8310 - acc: 0.0093\n",
      "Epoch 9/100\n",
      "750/750 [==============================] - 0s 32us/sample - loss: 0.8172 - acc: 0.0093\n",
      "Epoch 10/100\n",
      "750/750 [==============================] - 0s 32us/sample - loss: 0.8049 - acc: 0.0133\n",
      "Epoch 11/100\n",
      "750/750 [==============================] - 0s 30us/sample - loss: 0.7937 - acc: 0.0173\n",
      "Epoch 12/100\n",
      "750/750 [==============================] - 0s 32us/sample - loss: 0.7836 - acc: 0.0267\n",
      "Epoch 13/100\n",
      "750/750 [==============================] - 0s 30us/sample - loss: 0.7744 - acc: 0.0373\n",
      "Epoch 14/100\n",
      "750/750 [==============================] - 0s 31us/sample - loss: 0.7659 - acc: 0.0493\n",
      "Epoch 15/100\n",
      "750/750 [==============================] - 0s 29us/sample - loss: 0.7581 - acc: 0.0680\n",
      "Epoch 16/100\n",
      "750/750 [==============================] - 0s 29us/sample - loss: 0.7512 - acc: 0.0907\n",
      "Epoch 17/100\n",
      "750/750 [==============================] - 0s 29us/sample - loss: 0.7445 - acc: 0.1173\n",
      "Epoch 18/100\n",
      "750/750 [==============================] - 0s 30us/sample - loss: 0.7384 - acc: 0.1520\n",
      "Epoch 19/100\n",
      "750/750 [==============================] - 0s 29us/sample - loss: 0.7328 - acc: 0.1933\n",
      "Epoch 20/100\n",
      "750/750 [==============================] - 0s 29us/sample - loss: 0.7275 - acc: 0.2413\n",
      "Epoch 21/100\n",
      "750/750 [==============================] - 0s 31us/sample - loss: 0.7225 - acc: 0.3213\n",
      "Epoch 22/100\n",
      "750/750 [==============================] - 0s 29us/sample - loss: 0.7179 - acc: 0.3840\n",
      "Epoch 23/100\n",
      "750/750 [==============================] - 0s 35us/sample - loss: 0.7134 - acc: 0.4627\n",
      "Epoch 24/100\n",
      "750/750 [==============================] - 0s 31us/sample - loss: 0.7092 - acc: 0.5013\n",
      "Epoch 25/100\n",
      "750/750 [==============================] - 0s 30us/sample - loss: 0.7051 - acc: 0.5067\n",
      "Epoch 26/100\n",
      "750/750 [==============================] - 0s 31us/sample - loss: 0.7011 - acc: 0.5067\n",
      "Epoch 27/100\n",
      "750/750 [==============================] - 0s 30us/sample - loss: 0.6973 - acc: 0.5067\n",
      "Epoch 28/100\n",
      "750/750 [==============================] - 0s 29us/sample - loss: 0.6935 - acc: 0.5067\n",
      "Epoch 29/100\n",
      "750/750 [==============================] - 0s 29us/sample - loss: 0.6897 - acc: 0.5067\n",
      "Epoch 30/100\n",
      "750/750 [==============================] - 0s 30us/sample - loss: 0.6858 - acc: 0.5067\n",
      "Epoch 31/100\n",
      "750/750 [==============================] - 0s 34us/sample - loss: 0.6820 - acc: 0.5067\n",
      "Epoch 32/100\n",
      "750/750 [==============================] - 0s 30us/sample - loss: 0.6779 - acc: 0.5067\n",
      "Epoch 33/100\n",
      "750/750 [==============================] - 0s 33us/sample - loss: 0.6736 - acc: 0.5067\n",
      "Epoch 34/100\n",
      "750/750 [==============================] - 0s 34us/sample - loss: 0.6692 - acc: 0.5067\n",
      "Epoch 35/100\n",
      "750/750 [==============================] - 0s 31us/sample - loss: 0.6644 - acc: 0.5067\n",
      "Epoch 36/100\n",
      "750/750 [==============================] - 0s 30us/sample - loss: 0.6593 - acc: 0.5067\n",
      "Epoch 37/100\n",
      "750/750 [==============================] - 0s 30us/sample - loss: 0.6539 - acc: 0.5067\n",
      "Epoch 38/100\n",
      "750/750 [==============================] - 0s 31us/sample - loss: 0.6480 - acc: 0.5067\n",
      "Epoch 39/100\n",
      "750/750 [==============================] - 0s 32us/sample - loss: 0.6417 - acc: 0.5067\n",
      "Epoch 40/100\n",
      "750/750 [==============================] - 0s 30us/sample - loss: 0.6348 - acc: 0.5067\n",
      "Epoch 41/100\n",
      "750/750 [==============================] - 0s 29us/sample - loss: 0.6273 - acc: 0.5067\n",
      "Epoch 42/100\n",
      "750/750 [==============================] - 0s 32us/sample - loss: 0.6193 - acc: 0.5067\n",
      "Epoch 43/100\n",
      "750/750 [==============================] - 0s 31us/sample - loss: 0.6106 - acc: 0.6107\n",
      "Epoch 44/100\n",
      "750/750 [==============================] - 0s 32us/sample - loss: 0.6013 - acc: 0.9973\n",
      "Epoch 45/100\n",
      "750/750 [==============================] - 0s 28us/sample - loss: 0.5914 - acc: 0.9973\n",
      "Epoch 46/100\n",
      "750/750 [==============================] - 0s 31us/sample - loss: 0.5810 - acc: 0.9973\n",
      "Epoch 47/100\n",
      "750/750 [==============================] - 0s 29us/sample - loss: 0.5699 - acc: 0.9973\n",
      "Epoch 48/100\n",
      "750/750 [==============================] - 0s 29us/sample - loss: 0.5584 - acc: 0.9973\n",
      "Epoch 49/100\n",
      "750/750 [==============================] - 0s 32us/sample - loss: 0.5464 - acc: 0.9973\n",
      "Epoch 50/100\n",
      "750/750 [==============================] - 0s 30us/sample - loss: 0.5340 - acc: 0.9973\n",
      "Epoch 51/100\n",
      "750/750 [==============================] - 0s 32us/sample - loss: 0.5214 - acc: 0.9973\n",
      "Epoch 52/100\n",
      "750/750 [==============================] - 0s 30us/sample - loss: 0.5085 - acc: 0.9973\n",
      "Epoch 53/100\n",
      "750/750 [==============================] - 0s 32us/sample - loss: 0.4956 - acc: 0.9987\n",
      "Epoch 54/100\n",
      "750/750 [==============================] - 0s 31us/sample - loss: 0.4826 - acc: 0.9987\n",
      "Epoch 55/100\n",
      "750/750 [==============================] - 0s 30us/sample - loss: 0.4697 - acc: 0.9987\n",
      "Epoch 56/100\n",
      "750/750 [==============================] - 0s 30us/sample - loss: 0.4569 - acc: 0.9987\n",
      "Epoch 57/100\n",
      "750/750 [==============================] - 0s 31us/sample - loss: 0.4443 - acc: 0.9987\n",
      "Epoch 58/100\n",
      "750/750 [==============================] - 0s 29us/sample - loss: 0.4318 - acc: 0.9987\n",
      "Epoch 59/100\n",
      "750/750 [==============================] - 0s 28us/sample - loss: 0.4195 - acc: 0.9987\n",
      "Epoch 60/100\n",
      "750/750 [==============================] - 0s 29us/sample - loss: 0.4076 - acc: 1.0000\n",
      "Epoch 61/100\n",
      "750/750 [==============================] - 0s 31us/sample - loss: 0.3960 - acc: 1.0000\n",
      "Epoch 62/100\n",
      "750/750 [==============================] - 0s 29us/sample - loss: 0.3847 - acc: 1.0000\n",
      "Epoch 63/100\n",
      "750/750 [==============================] - 0s 29us/sample - loss: 0.3737 - acc: 1.0000\n",
      "Epoch 64/100\n",
      "750/750 [==============================] - 0s 29us/sample - loss: 0.3631 - acc: 1.0000\n",
      "Epoch 65/100\n",
      "750/750 [==============================] - 0s 32us/sample - loss: 0.3528 - acc: 1.0000\n",
      "Epoch 66/100\n",
      "750/750 [==============================] - 0s 29us/sample - loss: 0.3429 - acc: 1.0000\n",
      "Epoch 67/100\n",
      "750/750 [==============================] - 0s 30us/sample - loss: 0.3333 - acc: 1.0000\n",
      "Epoch 68/100\n",
      "750/750 [==============================] - 0s 30us/sample - loss: 0.3241 - acc: 1.0000\n",
      "Epoch 69/100\n",
      "750/750 [==============================] - 0s 30us/sample - loss: 0.3152 - acc: 1.0000\n",
      "Epoch 70/100\n",
      "750/750 [==============================] - 0s 28us/sample - loss: 0.3066 - acc: 1.0000\n",
      "Epoch 71/100\n",
      "750/750 [==============================] - 0s 30us/sample - loss: 0.2983 - acc: 1.0000\n",
      "Epoch 72/100\n",
      "750/750 [==============================] - 0s 32us/sample - loss: 0.2904 - acc: 1.0000\n",
      "Epoch 73/100\n",
      "750/750 [==============================] - 0s 29us/sample - loss: 0.2827 - acc: 1.0000\n",
      "Epoch 74/100\n",
      "750/750 [==============================] - 0s 29us/sample - loss: 0.2754 - acc: 1.0000\n",
      "Epoch 75/100\n",
      "750/750 [==============================] - 0s 30us/sample - loss: 0.2682 - acc: 1.0000\n",
      "Epoch 76/100\n",
      "750/750 [==============================] - 0s 29us/sample - loss: 0.2614 - acc: 1.0000\n",
      "Epoch 77/100\n",
      "750/750 [==============================] - 0s 31us/sample - loss: 0.2548 - acc: 1.0000\n",
      "Epoch 78/100\n",
      "750/750 [==============================] - 0s 30us/sample - loss: 0.2485 - acc: 1.0000\n",
      "Epoch 79/100\n",
      "750/750 [==============================] - 0s 29us/sample - loss: 0.2424 - acc: 1.0000\n",
      "Epoch 80/100\n",
      "750/750 [==============================] - 0s 31us/sample - loss: 0.2365 - acc: 1.0000\n",
      "Epoch 81/100\n",
      "750/750 [==============================] - 0s 29us/sample - loss: 0.2308 - acc: 1.0000\n",
      "Epoch 82/100\n"
     ]
    },
    {
     "name": "stdout",
     "output_type": "stream",
     "text": [
      "750/750 [==============================] - 0s 31us/sample - loss: 0.2253 - acc: 1.0000\n",
      "Epoch 83/100\n",
      "750/750 [==============================] - 0s 29us/sample - loss: 0.2200 - acc: 1.0000\n",
      "Epoch 84/100\n",
      "750/750 [==============================] - 0s 29us/sample - loss: 0.2149 - acc: 1.0000\n",
      "Epoch 85/100\n",
      "750/750 [==============================] - 0s 30us/sample - loss: 0.2099 - acc: 1.0000\n",
      "Epoch 86/100\n",
      "750/750 [==============================] - 0s 28us/sample - loss: 0.2051 - acc: 1.0000\n",
      "Epoch 87/100\n",
      "750/750 [==============================] - 0s 27us/sample - loss: 0.2005 - acc: 1.0000\n",
      "Epoch 88/100\n",
      "750/750 [==============================] - 0s 29us/sample - loss: 0.1960 - acc: 1.0000\n",
      "Epoch 89/100\n",
      "750/750 [==============================] - 0s 28us/sample - loss: 0.1917 - acc: 1.0000\n",
      "Epoch 90/100\n",
      "750/750 [==============================] - 0s 28us/sample - loss: 0.1875 - acc: 1.0000\n",
      "Epoch 91/100\n",
      "750/750 [==============================] - 0s 28us/sample - loss: 0.1834 - acc: 1.0000\n",
      "Epoch 92/100\n",
      "750/750 [==============================] - 0s 28us/sample - loss: 0.1795 - acc: 1.0000\n",
      "Epoch 93/100\n",
      "750/750 [==============================] - 0s 28us/sample - loss: 0.1757 - acc: 1.0000\n",
      "Epoch 94/100\n",
      "750/750 [==============================] - 0s 30us/sample - loss: 0.1720 - acc: 1.0000\n",
      "Epoch 95/100\n",
      "750/750 [==============================] - 0s 28us/sample - loss: 0.1684 - acc: 1.0000\n",
      "Epoch 96/100\n",
      "750/750 [==============================] - 0s 29us/sample - loss: 0.1649 - acc: 1.0000\n",
      "Epoch 97/100\n",
      "750/750 [==============================] - 0s 30us/sample - loss: 0.1615 - acc: 1.0000\n",
      "Epoch 98/100\n",
      "750/750 [==============================] - 0s 29us/sample - loss: 0.1582 - acc: 1.0000\n",
      "Epoch 99/100\n",
      "750/750 [==============================] - 0s 29us/sample - loss: 0.1551 - acc: 1.0000\n",
      "Epoch 100/100\n",
      "750/750 [==============================] - 0s 30us/sample - loss: 0.1520 - acc: 1.0000\n"
     ]
    }
   ],
   "source": [
    "#training model (epochs is number of complete times through training data)\n",
    "fit_model = nn_model.fit(X_train_scaled, y_train, epochs=100)"
   ]
  },
  {
   "cell_type": "code",
   "execution_count": 26,
   "id": "9dd6e5ce",
   "metadata": {},
   "outputs": [
    {
     "data": {
      "text/plain": [
       "<AxesSubplot:>"
      ]
     },
     "execution_count": 26,
     "metadata": {},
     "output_type": "execute_result"
    },
    {
     "data": {
      "image/png": "[encoded data removed]",
      "text/plain": [
       "<Figure size 432x288 with 1 Axes>"
      ]
     },
     "metadata": {
      "needs_background": "light"
     },
     "output_type": "display_data"
    }
   ],
   "source": [
    "# Visualizing loss over epoch number\n",
    "\n",
    "# Create a DataFrame containing training history\n",
    "history_df = pd.DataFrame(fit_model.history, index=range(1,len(fit_model.history[\"loss\"])+1))\n",
    "\n",
    "# Plot the loss\n",
    "history_df.plot(y=\"loss\")"
   ]
  },
  {
   "cell_type": "code",
   "execution_count": 27,
   "id": "730ea481",
   "metadata": {},
   "outputs": [
    {
     "data": {
      "text/plain": [
       "<AxesSubplot:>"
      ]
     },
     "execution_count": 27,
     "metadata": {},
     "output_type": "execute_result"
    },
    {
     "data": {
      "image/png": "[encoded data removed]",
      "text/plain": [
       "<Figure size 432x288 with 1 Axes>"
      ]
     },
     "metadata": {
      "needs_background": "light"
     },
     "output_type": "display_data"
    }
   ],
   "source": [
    "# Plot the accuracy\n",
    "history_df.plot(y=\"acc\")"
   ]
  },
  {
   "cell_type": "code",
   "execution_count": 30,
   "id": "2dc61ed8",
   "metadata": {},
   "outputs": [
    {
     "name": "stdout",
     "output_type": "stream",
     "text": [
      "250/250 - 0s - loss: 0.1508 - acc: 1.0000\n",
      "Loss: 0.151, Accuracy: 1.0\n"
     ]
    }
   ],
   "source": [
    "# Evaluate the model using the test data\n",
    "model_loss, model_accuracy = nn_model.evaluate(X_test_scaled, y_test, verbose=2)\n",
    "print(f\"Loss: {model_loss:.3}, Accuracy: {model_accuracy}\")"
   ]
  },
  {
   "cell_type": "code",
   "execution_count": 31,
   "id": "efdcf284",
   "metadata": {},
   "outputs": [
    {
     "data": {
      "text/plain": [
       "array([[0],\n",
       "       [1],\n",
       "       [0],\n",
       "       [1],\n",
       "       [0],\n",
       "       [0],\n",
       "       [1],\n",
       "       [1],\n",
       "       [1],\n",
       "       [0]], dtype=int32)"
      ]
     },
     "execution_count": 31,
     "metadata": {},
     "output_type": "execute_result"
    }
   ],
   "source": [
    "# Testing model on new data\n",
    "\n",
    "# making new data\n",
    "new_X, new_y = make_blobs(n_samples=10, centers=2, n_features=2, random_state=78)\n",
    "new_X_scaled = X_scaler.transform(new_X)\n",
    "nn_model.predict_classes(new_X_scaled)"
   ]
  },
  {
   "cell_type": "markdown",
   "id": "48f9d126",
   "metadata": {},
   "source": [
    "### linear data works well with basic single-neuron, single-layer models. \n",
    "### The following is practice with more complicated, non-linear data"
   ]
  },
  {
   "cell_type": "code",
   "execution_count": 39,
   "id": "16658ab3",
   "metadata": {},
   "outputs": [
    {
     "data": {
      "text/plain": [
       "<AxesSubplot:xlabel='Feature 1', ylabel='Feature 2'>"
      ]
     },
     "execution_count": 39,
     "metadata": {},
     "output_type": "execute_result"
    },
    {
     "data": {
      "image/png": "[encoded data removed]",
      "text/plain": [
       "<Figure size 432x288 with 2 Axes>"
      ]
     },
     "metadata": {
      "needs_background": "light"
     },
     "output_type": "display_data"
    }
   ],
   "source": [
    "from sklearn.datasets import make_moons\n",
    "\n",
    "# Creating dummy nonlinear data\n",
    "X_moons, y_moons = make_moons(n_samples=1000, noise=0.08, random_state=78)\n",
    "\n",
    "# Transforming y_moons to a vertical vector\n",
    "y_moons = y_moons.reshape(-1, 1)\n",
    "\n",
    "# Creating a DataFrame to plot the nonlinear dummy data\n",
    "df_moons = pd.DataFrame(X_moons, columns=[\"Feature 1\", \"Feature 2\"])\n",
    "df_moons[\"Target\"] = y_moons\n",
    "\n",
    "df_moons.plot.scatter(x=\"Feature 1\", y=\"Feature 2\", c=\"Target\", colormap=\"winter\")"
   ]
  },
  {
   "cell_type": "code",
   "execution_count": 42,
   "id": "e1f8b393",
   "metadata": {},
   "outputs": [
    {
     "name": "stdout",
     "output_type": "stream",
     "text": [
      "Train on 750 samples\n",
      "Epoch 1/100\n",
      "750/750 [==============================] - 0s 60us/sample - loss: 1.0237 - acc: 0.3947\n",
      "Epoch 2/100\n",
      "750/750 [==============================] - 0s 30us/sample - loss: 0.9618 - acc: 0.4120\n",
      "Epoch 3/100\n",
      "750/750 [==============================] - 0s 31us/sample - loss: 0.9088 - acc: 0.4253\n",
      "Epoch 4/100\n",
      "750/750 [==============================] - 0s 30us/sample - loss: 0.8711 - acc: 0.4387\n",
      "Epoch 5/100\n",
      "750/750 [==============================] - 0s 31us/sample - loss: 0.8403 - acc: 0.4493\n",
      "Epoch 6/100\n",
      "750/750 [==============================] - 0s 30us/sample - loss: 0.8153 - acc: 0.4547\n",
      "Epoch 7/100\n",
      "750/750 [==============================] - 0s 30us/sample - loss: 0.7943 - acc: 0.4613\n",
      "Epoch 8/100\n",
      "750/750 [==============================] - 0s 29us/sample - loss: 0.7758 - acc: 0.4720\n",
      "Epoch 9/100\n",
      "750/750 [==============================] - 0s 29us/sample - loss: 0.7599 - acc: 0.4813\n",
      "Epoch 10/100\n",
      "750/750 [==============================] - 0s 32us/sample - loss: 0.7456 - acc: 0.4867\n",
      "Epoch 11/100\n",
      "750/750 [==============================] - 0s 29us/sample - loss: 0.7327 - acc: 0.4933\n",
      "Epoch 12/100\n",
      "750/750 [==============================] - 0s 31us/sample - loss: 0.7213 - acc: 0.5027\n",
      "Epoch 13/100\n",
      "750/750 [==============================] - 0s 29us/sample - loss: 0.7106 - acc: 0.5107\n",
      "Epoch 14/100\n",
      "750/750 [==============================] - 0s 30us/sample - loss: 0.7009 - acc: 0.5173\n",
      "Epoch 15/100\n",
      "750/750 [==============================] - 0s 31us/sample - loss: 0.6919 - acc: 0.5280\n",
      "Epoch 16/100\n",
      "750/750 [==============================] - 0s 30us/sample - loss: 0.6835 - acc: 0.5360\n",
      "Epoch 17/100\n",
      "750/750 [==============================] - 0s 31us/sample - loss: 0.6758 - acc: 0.5480\n",
      "Epoch 18/100\n",
      "750/750 [==============================] - 0s 30us/sample - loss: 0.6686 - acc: 0.5493\n",
      "Epoch 19/100\n",
      "750/750 [==============================] - 0s 28us/sample - loss: 0.6616 - acc: 0.5547\n",
      "Epoch 20/100\n",
      "750/750 [==============================] - 0s 33us/sample - loss: 0.6551 - acc: 0.5640\n",
      "Epoch 21/100\n",
      "750/750 [==============================] - 0s 32us/sample - loss: 0.6489 - acc: 0.5667\n",
      "Epoch 22/100\n",
      "750/750 [==============================] - 0s 30us/sample - loss: 0.6428 - acc: 0.5773\n",
      "Epoch 23/100\n",
      "750/750 [==============================] - 0s 30us/sample - loss: 0.6372 - acc: 0.5893\n",
      "Epoch 24/100\n",
      "750/750 [==============================] - 0s 30us/sample - loss: 0.6318 - acc: 0.5960\n",
      "Epoch 25/100\n",
      "750/750 [==============================] - 0s 30us/sample - loss: 0.6265 - acc: 0.6000\n",
      "Epoch 26/100\n",
      "750/750 [==============================] - 0s 27us/sample - loss: 0.6217 - acc: 0.6000\n",
      "Epoch 27/100\n",
      "750/750 [==============================] - 0s 32us/sample - loss: 0.6170 - acc: 0.6027\n",
      "Epoch 28/100\n",
      "750/750 [==============================] - 0s 30us/sample - loss: 0.6125 - acc: 0.6040\n",
      "Epoch 29/100\n",
      "750/750 [==============================] - 0s 30us/sample - loss: 0.6080 - acc: 0.6107\n",
      "Epoch 30/100\n",
      "750/750 [==============================] - 0s 30us/sample - loss: 0.6037 - acc: 0.6160\n",
      "Epoch 31/100\n",
      "750/750 [==============================] - 0s 29us/sample - loss: 0.5996 - acc: 0.6200\n",
      "Epoch 32/100\n",
      "750/750 [==============================] - 0s 30us/sample - loss: 0.5956 - acc: 0.6200\n",
      "Epoch 33/100\n",
      "750/750 [==============================] - 0s 28us/sample - loss: 0.5917 - acc: 0.6240\n",
      "Epoch 34/100\n",
      "750/750 [==============================] - 0s 32us/sample - loss: 0.5882 - acc: 0.6293\n",
      "Epoch 35/100\n",
      "750/750 [==============================] - 0s 29us/sample - loss: 0.5846 - acc: 0.6320\n",
      "Epoch 36/100\n",
      "750/750 [==============================] - 0s 31us/sample - loss: 0.5812 - acc: 0.6400\n",
      "Epoch 37/100\n",
      "750/750 [==============================] - 0s 30us/sample - loss: 0.5777 - acc: 0.6413\n",
      "Epoch 38/100\n",
      "750/750 [==============================] - 0s 32us/sample - loss: 0.5744 - acc: 0.6413\n",
      "Epoch 39/100\n",
      "750/750 [==============================] - 0s 30us/sample - loss: 0.5713 - acc: 0.6507\n",
      "Epoch 40/100\n",
      "750/750 [==============================] - 0s 29us/sample - loss: 0.5681 - acc: 0.6533\n",
      "Epoch 41/100\n",
      "750/750 [==============================] - 0s 31us/sample - loss: 0.5651 - acc: 0.6573\n",
      "Epoch 42/100\n",
      "750/750 [==============================] - 0s 32us/sample - loss: 0.5623 - acc: 0.6600\n",
      "Epoch 43/100\n",
      "750/750 [==============================] - 0s 30us/sample - loss: 0.5595 - acc: 0.6627\n",
      "Epoch 44/100\n",
      "750/750 [==============================] - 0s 29us/sample - loss: 0.5567 - acc: 0.6653\n",
      "Epoch 45/100\n",
      "750/750 [==============================] - 0s 32us/sample - loss: 0.5541 - acc: 0.6680\n",
      "Epoch 46/100\n",
      "750/750 [==============================] - 0s 29us/sample - loss: 0.5514 - acc: 0.6707\n",
      "Epoch 47/100\n",
      "750/750 [==============================] - 0s 30us/sample - loss: 0.5488 - acc: 0.6733\n",
      "Epoch 48/100\n",
      "750/750 [==============================] - 0s 30us/sample - loss: 0.5463 - acc: 0.6760\n",
      "Epoch 49/100\n",
      "750/750 [==============================] - 0s 30us/sample - loss: 0.5438 - acc: 0.6787\n",
      "Epoch 50/100\n",
      "750/750 [==============================] - 0s 31us/sample - loss: 0.5414 - acc: 0.6827\n",
      "Epoch 51/100\n",
      "750/750 [==============================] - 0s 34us/sample - loss: 0.5390 - acc: 0.6893\n",
      "Epoch 52/100\n",
      "750/750 [==============================] - 0s 33us/sample - loss: 0.5366 - acc: 0.6907\n",
      "Epoch 53/100\n",
      "750/750 [==============================] - 0s 31us/sample - loss: 0.5342 - acc: 0.6933\n",
      "Epoch 54/100\n",
      "750/750 [==============================] - 0s 31us/sample - loss: 0.5319 - acc: 0.6947\n",
      "Epoch 55/100\n",
      "750/750 [==============================] - 0s 29us/sample - loss: 0.5296 - acc: 0.6987\n",
      "Epoch 56/100\n",
      "750/750 [==============================] - 0s 31us/sample - loss: 0.5273 - acc: 0.6987\n",
      "Epoch 57/100\n",
      "750/750 [==============================] - 0s 30us/sample - loss: 0.5251 - acc: 0.6987\n",
      "Epoch 58/100\n",
      "750/750 [==============================] - 0s 29us/sample - loss: 0.5229 - acc: 0.7013\n",
      "Epoch 59/100\n",
      "750/750 [==============================] - 0s 31us/sample - loss: 0.5206 - acc: 0.7027\n",
      "Epoch 60/100\n",
      "750/750 [==============================] - 0s 30us/sample - loss: 0.5183 - acc: 0.7040\n",
      "Epoch 61/100\n",
      "750/750 [==============================] - 0s 29us/sample - loss: 0.5161 - acc: 0.7053\n",
      "Epoch 62/100\n",
      "750/750 [==============================] - 0s 31us/sample - loss: 0.5139 - acc: 0.7093\n",
      "Epoch 63/100\n",
      "750/750 [==============================] - 0s 30us/sample - loss: 0.5119 - acc: 0.7107\n",
      "Epoch 64/100\n",
      "750/750 [==============================] - 0s 30us/sample - loss: 0.5097 - acc: 0.7120\n",
      "Epoch 65/100\n",
      "750/750 [==============================] - 0s 30us/sample - loss: 0.5076 - acc: 0.7160\n",
      "Epoch 66/100\n",
      "750/750 [==============================] - 0s 31us/sample - loss: 0.5056 - acc: 0.7200\n",
      "Epoch 67/100\n",
      "750/750 [==============================] - 0s 30us/sample - loss: 0.5035 - acc: 0.7200\n",
      "Epoch 68/100\n",
      "750/750 [==============================] - 0s 30us/sample - loss: 0.5014 - acc: 0.7213\n",
      "Epoch 69/100\n",
      "750/750 [==============================] - 0s 30us/sample - loss: 0.4994 - acc: 0.7240\n",
      "Epoch 70/100\n",
      "750/750 [==============================] - 0s 29us/sample - loss: 0.4974 - acc: 0.7253\n",
      "Epoch 71/100\n",
      "750/750 [==============================] - 0s 31us/sample - loss: 0.4954 - acc: 0.7240\n",
      "Epoch 72/100\n",
      "750/750 [==============================] - 0s 29us/sample - loss: 0.4933 - acc: 0.7307\n",
      "Epoch 73/100\n",
      "750/750 [==============================] - 0s 33us/sample - loss: 0.4912 - acc: 0.7333\n",
      "Epoch 74/100\n",
      "750/750 [==============================] - 0s 29us/sample - loss: 0.4890 - acc: 0.7333\n",
      "Epoch 75/100\n",
      "750/750 [==============================] - 0s 29us/sample - loss: 0.4868 - acc: 0.7347\n",
      "Epoch 76/100\n",
      "750/750 [==============================] - 0s 30us/sample - loss: 0.4846 - acc: 0.7360\n",
      "Epoch 77/100\n",
      "750/750 [==============================] - 0s 29us/sample - loss: 0.4825 - acc: 0.7413\n",
      "Epoch 78/100\n",
      "750/750 [==============================] - 0s 31us/sample - loss: 0.4804 - acc: 0.7427\n",
      "Epoch 79/100\n",
      "750/750 [==============================] - 0s 29us/sample - loss: 0.4781 - acc: 0.7467\n",
      "Epoch 80/100\n",
      "750/750 [==============================] - 0s 30us/sample - loss: 0.4760 - acc: 0.7467\n",
      "Epoch 81/100\n",
      "750/750 [==============================] - 0s 30us/sample - loss: 0.4739 - acc: 0.7480\n",
      "Epoch 82/100\n"
     ]
    },
    {
     "name": "stdout",
     "output_type": "stream",
     "text": [
      "750/750 [==============================] - 0s 29us/sample - loss: 0.4717 - acc: 0.7520\n",
      "Epoch 83/100\n",
      "750/750 [==============================] - 0s 31us/sample - loss: 0.4695 - acc: 0.7560\n",
      "Epoch 84/100\n",
      "750/750 [==============================] - 0s 29us/sample - loss: 0.4673 - acc: 0.7573\n",
      "Epoch 85/100\n",
      "750/750 [==============================] - 0s 27us/sample - loss: 0.4651 - acc: 0.7587\n",
      "Epoch 86/100\n",
      "750/750 [==============================] - 0s 29us/sample - loss: 0.4630 - acc: 0.7600\n",
      "Epoch 87/100\n",
      "750/750 [==============================] - 0s 29us/sample - loss: 0.4607 - acc: 0.7627\n",
      "Epoch 88/100\n",
      "750/750 [==============================] - 0s 28us/sample - loss: 0.4587 - acc: 0.7640\n",
      "Epoch 89/100\n",
      "750/750 [==============================] - 0s 30us/sample - loss: 0.4566 - acc: 0.7653\n",
      "Epoch 90/100\n",
      "750/750 [==============================] - 0s 28us/sample - loss: 0.4544 - acc: 0.7667\n",
      "Epoch 91/100\n",
      "750/750 [==============================] - 0s 27us/sample - loss: 0.4523 - acc: 0.7680\n",
      "Epoch 92/100\n",
      "750/750 [==============================] - 0s 29us/sample - loss: 0.4502 - acc: 0.7707\n",
      "Epoch 93/100\n",
      "750/750 [==============================] - 0s 28us/sample - loss: 0.4482 - acc: 0.7733\n",
      "Epoch 94/100\n",
      "750/750 [==============================] - 0s 29us/sample - loss: 0.4460 - acc: 0.7773\n",
      "Epoch 95/100\n",
      "750/750 [==============================] - 0s 29us/sample - loss: 0.4439 - acc: 0.7800\n",
      "Epoch 96/100\n",
      "750/750 [==============================] - 0s 28us/sample - loss: 0.4417 - acc: 0.7813\n",
      "Epoch 97/100\n",
      "750/750 [==============================] - 0s 30us/sample - loss: 0.4396 - acc: 0.7840\n",
      "Epoch 98/100\n",
      "750/750 [==============================] - 0s 29us/sample - loss: 0.4376 - acc: 0.7840\n",
      "Epoch 99/100\n",
      "750/750 [==============================] - 0s 28us/sample - loss: 0.4355 - acc: 0.7880\n",
      "Epoch 100/100\n",
      "750/750 [==============================] - 0s 28us/sample - loss: 0.4335 - acc: 0.7880\n"
     ]
    }
   ],
   "source": [
    "# Since we are not changing the structure of our neural network, nor are we changing its function, we can use the same Sequential model object. \n",
    "# The only difference from our previous workflow is this time we will retrain and evaluate on the nonlinear moon-shaped data.\n",
    "\n",
    "# Create training and testing sets\n",
    "X_moon_train, X_moon_test, y_moon_train, y_moon_test = train_test_split(X_moons, y_moons, random_state = 78)\n",
    "\n",
    "# Create a scaler instance\n",
    "X_moon_scaler = skl.preprocessing.StandardScaler()\n",
    "\n",
    "# Fit the scaler\n",
    "X_moon_scaler.fit(X_moon_train)\n",
    "\n",
    "# Scale the data\n",
    "X_moon_train_scaled = X_moon_scaler.transform(X_moon_train) \n",
    "X_moon_test_scaled = X_moon_scaler.transform(X_moon_test)\n",
    "\n",
    "# Training model with non-linear data\n",
    "model_moon = nn_model.fit(X_moon_train_scaled, y_moon_train, epochs=100, shuffle=True)\n"
   ]
  },
  {
   "cell_type": "code",
   "execution_count": 43,
   "id": "4de33d63",
   "metadata": {},
   "outputs": [
    {
     "data": {
      "text/plain": [
       "<AxesSubplot:>"
      ]
     },
     "execution_count": 43,
     "metadata": {},
     "output_type": "execute_result"
    },
    {
     "data": {
      "image/png": "[encoded data removed]",
      "text/plain": [
       "<Figure size 432x288 with 1 Axes>"
      ]
     },
     "metadata": {
      "needs_background": "light"
     },
     "output_type": "display_data"
    }
   ],
   "source": [
    "# Create a DataFrame containing training history\n",
    "history_df = pd.DataFrame(model_moon.history, index = range(1,len(model_moon.history[\"loss\"])+1))\n",
    "\n",
    "# Plot the loss\n",
    "history_df.plot.line(y=\"loss\")"
   ]
  },
  {
   "cell_type": "code",
   "execution_count": 44,
   "id": "f9922813",
   "metadata": {},
   "outputs": [
    {
     "data": {
      "text/plain": [
       "<AxesSubplot:>"
      ]
     },
     "execution_count": 44,
     "metadata": {},
     "output_type": "execute_result"
    },
    {
     "data": {
      "image/png": "[encoded data removed]",
      "text/plain": [
       "<Figure size 432x288 with 1 Axes>"
      ]
     },
     "metadata": {
      "needs_background": "light"
     },
     "output_type": "display_data"
    }
   ],
   "source": [
    "# Plot accuracy\n",
    "history_df.plot.line(y=\"acc\")\n",
    "\n",
    "# Accuracy wasn't very high. \n",
    "# the more complicated and nonlinear the dataset, the more components we'd need to add to a neural network to achieve our desired performance.\n"
   ]
  },
  {
   "cell_type": "code",
   "execution_count": null,
   "id": "65bd9e12",
   "metadata": {},
   "outputs": [],
   "source": [
    "# advantages to adding neurons to our hidden layer in a neural network:\n",
    "# - There is a distributed effort to find optimal weights—faster.\n",
    "# - Each neuron can focus on different features to identify nonlinear effects—smarter.\n",
    "# - It is less likely to fixate on complex variables—more robust.\n",
    "\n",
    "# Why to limit numbers of neurons:\n",
    "# - overfitting (the neural network will not generalize well and won't be able to classify new data correctly)\n",
    "# - computation resources (training a large neural network requires more data, more epochs, and more time)\n",
    "\n",
    "# A good rule of thumb for a basic neural network is to have two to three times the amount of neurons in the hidden layer as the number of inputs.\n"
   ]
  },
  {
   "cell_type": "code",
   "execution_count": 49,
   "id": "d00a0d9a",
   "metadata": {},
   "outputs": [
    {
     "name": "stdout",
     "output_type": "stream",
     "text": [
      "Train on 750 samples\n",
      "Epoch 1/100\n",
      "750/750 [==============================] - 0s 310us/sample - loss: 0.7199 - acc: 0.3973\n",
      "Epoch 2/100\n",
      "750/750 [==============================] - 0s 35us/sample - loss: 0.6933 - acc: 0.4013\n",
      "Epoch 3/100\n",
      "750/750 [==============================] - 0s 32us/sample - loss: 0.6693 - acc: 0.4680\n",
      "Epoch 4/100\n",
      "750/750 [==============================] - 0s 33us/sample - loss: 0.6466 - acc: 0.5320\n",
      "Epoch 5/100\n",
      "750/750 [==============================] - 0s 29us/sample - loss: 0.6245 - acc: 0.5973\n",
      "Epoch 6/100\n",
      "750/750 [==============================] - 0s 31us/sample - loss: 0.6023 - acc: 0.6573\n",
      "Epoch 7/100\n",
      "750/750 [==============================] - 0s 32us/sample - loss: 0.5798 - acc: 0.6907\n",
      "Epoch 8/100\n",
      "750/750 [==============================] - 0s 32us/sample - loss: 0.5568 - acc: 0.7213\n",
      "Epoch 9/100\n",
      "750/750 [==============================] - 0s 32us/sample - loss: 0.5340 - acc: 0.7387\n",
      "Epoch 10/100\n",
      "750/750 [==============================] - 0s 31us/sample - loss: 0.5121 - acc: 0.7493\n",
      "Epoch 11/100\n",
      "750/750 [==============================] - 0s 33us/sample - loss: 0.4908 - acc: 0.7640\n",
      "Epoch 12/100\n",
      "750/750 [==============================] - 0s 32us/sample - loss: 0.4707 - acc: 0.7680\n",
      "Epoch 13/100\n",
      "750/750 [==============================] - 0s 34us/sample - loss: 0.4525 - acc: 0.7800\n",
      "Epoch 14/100\n",
      "750/750 [==============================] - 0s 31us/sample - loss: 0.4354 - acc: 0.7907\n",
      "Epoch 15/100\n",
      "750/750 [==============================] - 0s 34us/sample - loss: 0.4203 - acc: 0.7987\n",
      "Epoch 16/100\n",
      "750/750 [==============================] - 0s 31us/sample - loss: 0.4063 - acc: 0.8027\n",
      "Epoch 17/100\n",
      "750/750 [==============================] - 0s 30us/sample - loss: 0.3940 - acc: 0.8080\n",
      "Epoch 18/100\n",
      "750/750 [==============================] - 0s 33us/sample - loss: 0.3824 - acc: 0.8120\n",
      "Epoch 19/100\n",
      "750/750 [==============================] - 0s 32us/sample - loss: 0.3723 - acc: 0.8147\n",
      "Epoch 20/100\n",
      "750/750 [==============================] - 0s 32us/sample - loss: 0.3632 - acc: 0.8187\n",
      "Epoch 21/100\n",
      "750/750 [==============================] - 0s 31us/sample - loss: 0.3548 - acc: 0.8240\n",
      "Epoch 22/100\n",
      "750/750 [==============================] - 0s 33us/sample - loss: 0.3472 - acc: 0.8307\n",
      "Epoch 23/100\n",
      "750/750 [==============================] - 0s 31us/sample - loss: 0.3400 - acc: 0.8387\n",
      "Epoch 24/100\n",
      "750/750 [==============================] - 0s 33us/sample - loss: 0.3331 - acc: 0.8427\n",
      "Epoch 25/100\n",
      "750/750 [==============================] - 0s 35us/sample - loss: 0.3269 - acc: 0.8427\n",
      "Epoch 26/100\n",
      "750/750 [==============================] - 0s 31us/sample - loss: 0.3209 - acc: 0.8453\n",
      "Epoch 27/100\n",
      "750/750 [==============================] - 0s 34us/sample - loss: 0.3156 - acc: 0.8493\n",
      "Epoch 28/100\n",
      "750/750 [==============================] - 0s 34us/sample - loss: 0.3105 - acc: 0.8493\n",
      "Epoch 29/100\n",
      "750/750 [==============================] - 0s 34us/sample - loss: 0.3056 - acc: 0.8547\n",
      "Epoch 30/100\n",
      "750/750 [==============================] - 0s 33us/sample - loss: 0.3011 - acc: 0.8587\n",
      "Epoch 31/100\n",
      "750/750 [==============================] - 0s 32us/sample - loss: 0.2969 - acc: 0.8600\n",
      "Epoch 32/100\n",
      "750/750 [==============================] - 0s 34us/sample - loss: 0.2927 - acc: 0.8600\n",
      "Epoch 33/100\n",
      "750/750 [==============================] - 0s 33us/sample - loss: 0.2891 - acc: 0.8613\n",
      "Epoch 34/100\n",
      "750/750 [==============================] - 0s 33us/sample - loss: 0.2851 - acc: 0.8653\n",
      "Epoch 35/100\n",
      "750/750 [==============================] - 0s 34us/sample - loss: 0.2817 - acc: 0.8693\n",
      "Epoch 36/100\n",
      "750/750 [==============================] - 0s 32us/sample - loss: 0.2784 - acc: 0.8707\n",
      "Epoch 37/100\n",
      "750/750 [==============================] - 0s 32us/sample - loss: 0.2755 - acc: 0.8787\n",
      "Epoch 38/100\n",
      "750/750 [==============================] - 0s 32us/sample - loss: 0.2725 - acc: 0.8787\n",
      "Epoch 39/100\n",
      "750/750 [==============================] - 0s 35us/sample - loss: 0.2699 - acc: 0.8813\n",
      "Epoch 40/100\n",
      "750/750 [==============================] - 0s 32us/sample - loss: 0.2673 - acc: 0.8813\n",
      "Epoch 41/100\n",
      "750/750 [==============================] - 0s 33us/sample - loss: 0.2647 - acc: 0.8827\n",
      "Epoch 42/100\n",
      "750/750 [==============================] - 0s 31us/sample - loss: 0.2622 - acc: 0.8840\n",
      "Epoch 43/100\n",
      "750/750 [==============================] - 0s 35us/sample - loss: 0.2600 - acc: 0.8840\n",
      "Epoch 44/100\n",
      "750/750 [==============================] - 0s 32us/sample - loss: 0.2579 - acc: 0.8853\n",
      "Epoch 45/100\n",
      "750/750 [==============================] - 0s 33us/sample - loss: 0.2558 - acc: 0.8853\n",
      "Epoch 46/100\n",
      "750/750 [==============================] - 0s 33us/sample - loss: 0.2538 - acc: 0.8880\n",
      "Epoch 47/100\n",
      "750/750 [==============================] - 0s 32us/sample - loss: 0.2520 - acc: 0.8907\n",
      "Epoch 48/100\n",
      "750/750 [==============================] - 0s 34us/sample - loss: 0.2502 - acc: 0.8933\n",
      "Epoch 49/100\n",
      "750/750 [==============================] - 0s 32us/sample - loss: 0.2487 - acc: 0.8947\n",
      "Epoch 50/100\n",
      "750/750 [==============================] - 0s 33us/sample - loss: 0.2472 - acc: 0.8947\n",
      "Epoch 51/100\n",
      "750/750 [==============================] - 0s 32us/sample - loss: 0.2459 - acc: 0.8947\n",
      "Epoch 52/100\n",
      "750/750 [==============================] - 0s 32us/sample - loss: 0.2445 - acc: 0.8920\n",
      "Epoch 53/100\n",
      "750/750 [==============================] - 0s 33us/sample - loss: 0.2433 - acc: 0.8920\n",
      "Epoch 54/100\n",
      "750/750 [==============================] - 0s 32us/sample - loss: 0.2421 - acc: 0.8933\n",
      "Epoch 55/100\n",
      "750/750 [==============================] - 0s 32us/sample - loss: 0.2410 - acc: 0.8960\n",
      "Epoch 56/100\n",
      "750/750 [==============================] - 0s 32us/sample - loss: 0.2400 - acc: 0.9000\n",
      "Epoch 57/100\n",
      "750/750 [==============================] - 0s 31us/sample - loss: 0.2389 - acc: 0.9000\n",
      "Epoch 58/100\n",
      "750/750 [==============================] - 0s 33us/sample - loss: 0.2379 - acc: 0.8987\n",
      "Epoch 59/100\n",
      "750/750 [==============================] - 0s 31us/sample - loss: 0.2370 - acc: 0.9000\n",
      "Epoch 60/100\n",
      "750/750 [==============================] - 0s 34us/sample - loss: 0.2358 - acc: 0.8987\n",
      "Epoch 61/100\n",
      "750/750 [==============================] - 0s 32us/sample - loss: 0.2350 - acc: 0.8987\n",
      "Epoch 62/100\n",
      "750/750 [==============================] - 0s 33us/sample - loss: 0.2340 - acc: 0.9000\n",
      "Epoch 63/100\n",
      "750/750 [==============================] - 0s 32us/sample - loss: 0.2330 - acc: 0.9000\n",
      "Epoch 64/100\n",
      "750/750 [==============================] - 0s 33us/sample - loss: 0.2321 - acc: 0.9000\n",
      "Epoch 65/100\n",
      "750/750 [==============================] - 0s 32us/sample - loss: 0.2312 - acc: 0.9013\n",
      "Epoch 66/100\n",
      "750/750 [==============================] - 0s 31us/sample - loss: 0.2303 - acc: 0.9013\n",
      "Epoch 67/100\n",
      "750/750 [==============================] - 0s 31us/sample - loss: 0.2293 - acc: 0.9013\n",
      "Epoch 68/100\n",
      "750/750 [==============================] - 0s 32us/sample - loss: 0.2284 - acc: 0.9027\n",
      "Epoch 69/100\n",
      "750/750 [==============================] - 0s 32us/sample - loss: 0.2275 - acc: 0.9027\n",
      "Epoch 70/100\n",
      "750/750 [==============================] - 0s 33us/sample - loss: 0.2266 - acc: 0.9027\n",
      "Epoch 71/100\n",
      "750/750 [==============================] - 0s 31us/sample - loss: 0.2258 - acc: 0.9027\n",
      "Epoch 72/100\n",
      "750/750 [==============================] - 0s 33us/sample - loss: 0.2247 - acc: 0.9027\n",
      "Epoch 73/100\n",
      "750/750 [==============================] - 0s 33us/sample - loss: 0.2237 - acc: 0.9027\n",
      "Epoch 74/100\n",
      "750/750 [==============================] - 0s 31us/sample - loss: 0.2228 - acc: 0.9040\n",
      "Epoch 75/100\n",
      "750/750 [==============================] - 0s 33us/sample - loss: 0.2218 - acc: 0.9027\n",
      "Epoch 76/100\n",
      "750/750 [==============================] - 0s 31us/sample - loss: 0.2209 - acc: 0.9040\n",
      "Epoch 77/100\n",
      "750/750 [==============================] - 0s 34us/sample - loss: 0.2199 - acc: 0.9040\n",
      "Epoch 78/100\n",
      "750/750 [==============================] - 0s 32us/sample - loss: 0.2190 - acc: 0.9040\n",
      "Epoch 79/100\n",
      "750/750 [==============================] - 0s 33us/sample - loss: 0.2180 - acc: 0.9053\n",
      "Epoch 80/100\n",
      "750/750 [==============================] - 0s 32us/sample - loss: 0.2169 - acc: 0.9053\n",
      "Epoch 81/100\n",
      "750/750 [==============================] - 0s 34us/sample - loss: 0.2159 - acc: 0.9053\n",
      "Epoch 82/100\n"
     ]
    },
    {
     "name": "stdout",
     "output_type": "stream",
     "text": [
      "750/750 [==============================] - 0s 31us/sample - loss: 0.2150 - acc: 0.9080\n",
      "Epoch 83/100\n",
      "750/750 [==============================] - 0s 33us/sample - loss: 0.2139 - acc: 0.9093\n",
      "Epoch 84/100\n",
      "750/750 [==============================] - 0s 32us/sample - loss: 0.2128 - acc: 0.9107\n",
      "Epoch 85/100\n",
      "750/750 [==============================] - 0s 31us/sample - loss: 0.2118 - acc: 0.9107\n",
      "Epoch 86/100\n",
      "750/750 [==============================] - 0s 30us/sample - loss: 0.2107 - acc: 0.9120\n",
      "Epoch 87/100\n",
      "750/750 [==============================] - 0s 31us/sample - loss: 0.2096 - acc: 0.9133\n",
      "Epoch 88/100\n",
      "750/750 [==============================] - 0s 31us/sample - loss: 0.2085 - acc: 0.9133\n",
      "Epoch 89/100\n",
      "750/750 [==============================] - 0s 32us/sample - loss: 0.2073 - acc: 0.9147\n",
      "Epoch 90/100\n",
      "750/750 [==============================] - 0s 43us/sample - loss: 0.2061 - acc: 0.9147\n",
      "Epoch 91/100\n",
      "750/750 [==============================] - 0s 34us/sample - loss: 0.2049 - acc: 0.9147\n",
      "Epoch 92/100\n",
      "750/750 [==============================] - 0s 31us/sample - loss: 0.2035 - acc: 0.9160\n",
      "Epoch 93/100\n",
      "750/750 [==============================] - 0s 30us/sample - loss: 0.2024 - acc: 0.9173\n",
      "Epoch 94/100\n",
      "750/750 [==============================] - 0s 31us/sample - loss: 0.2009 - acc: 0.9187\n",
      "Epoch 95/100\n",
      "750/750 [==============================] - 0s 30us/sample - loss: 0.1995 - acc: 0.9187\n",
      "Epoch 96/100\n",
      "750/750 [==============================] - 0s 30us/sample - loss: 0.1981 - acc: 0.9187\n",
      "Epoch 97/100\n",
      "750/750 [==============================] - 0s 31us/sample - loss: 0.1966 - acc: 0.9213\n",
      "Epoch 98/100\n",
      "750/750 [==============================] - 0s 31us/sample - loss: 0.1950 - acc: 0.9213\n",
      "Epoch 99/100\n",
      "750/750 [==============================] - 0s 31us/sample - loss: 0.1933 - acc: 0.9227\n",
      "Epoch 100/100\n",
      "750/750 [==============================] - 0s 30us/sample - loss: 0.1917 - acc: 0.9227\n"
     ]
    }
   ],
   "source": [
    "# Adding neurons to neural network (Since we want to change the structure of our neural network model, we must first create a new Sequential model)\n",
    "\n",
    "# Generate our new Sequential model\n",
    "new_model = tf.keras.models.Sequential()\n",
    "\n",
    "# add inputs and hidden layers\n",
    "number_inputs = 2\n",
    "number_hidden_nodes = 6  #aka neurons\n",
    "\n",
    "new_model.add(tf.keras.layers.Dense(units=number_hidden_nodes, activation=\"relu\", input_dim=number_inputs))\n",
    "\n",
    "# Add the output layer that uses a probability activation function\n",
    "new_model.add(tf.keras.layers.Dense(units=1, activation=\"sigmoid\"))\n",
    "\n",
    "# Compile new Sequential model together and customize metrics\n",
    "new_model.compile(loss=\"binary_crossentropy\", optimizer=\"adam\", metrics=[\"accuracy\"])\n",
    "\n",
    "new_fit_model = new_model.fit(X_moon_train_scaled, y_moon_train, epochs=100, shuffle=True)\n",
    "\n",
    "# as we increase the number of neurons within the hidden layer, the classification accuracy improves. \n",
    "# adding multiple neurons to our neural network did not yield a perfect classification model. As input data becomes more complex, neural networks will require more and more optimization tweaks to achieve their desired accuracy.\n"
   ]
  },
  {
   "cell_type": "code",
   "execution_count": null,
   "id": "f28fbd1c",
   "metadata": {},
   "outputs": [],
   "source": [
    "# How to optimize neural network\n",
    "# - Check out your input dataset. (no variables or set of outliers that are causing the model to be confused. Could plot a pandas series)\n",
    "# - Add more neurons to a hidden layer.\n",
    "# - Add additional hidden layers.\n",
    "# - Use a different activation function for the hidden layers.\n",
    "# - Add additional epochs to the training regimen."
   ]
  },
  {
   "cell_type": "code",
   "execution_count": 52,
   "id": "43cf5eb5",
   "metadata": {},
   "outputs": [
    {
     "data": {
      "text/plain": [
       "<AxesSubplot:xlabel='Feature 1', ylabel='Feature 2'>"
      ]
     },
     "execution_count": 52,
     "metadata": {},
     "output_type": "execute_result"
    },
    {
     "data": {
      "image/png": "[encoded data removed]",
      "text/plain": [
       "<Figure size 432x288 with 1 Axes>"
      ]
     },
     "metadata": {
      "needs_background": "light"
     },
     "output_type": "display_data"
    }
   ],
   "source": [
    "# ranking the four most-used activation functions by data complexity and ideal use case, the order would be as follows:\n",
    "# - The sigmoid function values are normalized to a probability between 0 and 1, which is ideal for binary classification.\n",
    "# - The tanh function can be used for classification or regression, and it expands the range between -1 and 1.\n",
    "# - The ReLU function is ideal for looking at positive nonlinear input data for classification or regression.\n",
    "# - The Leaky ReLU function is a good alternative for nonlinear input data with many negative inputs.\n",
    "\n",
    "# By default, the Keras Dense layer will implement the linear activation function, which means that the net sum value is not transformed\n",
    "# The linear activation function limits the neural network model to only perform a linear regression. Therefore, the linear activation function is only appropriate for an output layer."
   ]
  },
  {
   "cell_type": "code",
   "execution_count": null,
   "id": "e0aa4aa6",
   "metadata": {},
   "outputs": [],
   "source": []
  }
 ],
 "metadata": {
  "kernelspec": {
   "display_name": "mlenv",
   "language": "python",
   "name": "mlenv"
  },
  "language_info": {
   "codemirror_mode": {
    "name": "ipython",
    "version": 3
   },
   "file_extension": ".py",
   "mimetype": "text/x-python",
   "name": "python",
   "nbconvert_exporter": "python",
   "pygments_lexer": "ipython3",
   "version": "3.7.13"
  }
 },
 "nbformat": 4,
 "nbformat_minor": 5
}
